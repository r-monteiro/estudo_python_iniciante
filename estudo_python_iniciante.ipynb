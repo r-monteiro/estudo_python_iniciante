{
  "nbformat": 4,
  "nbformat_minor": 0,
  "metadata": {
    "colab": {
      "provenance": []
    },
    "kernelspec": {
      "name": "python3",
      "display_name": "Python 3"
    },
    "language_info": {
      "name": "python"
    }
  },
  "cells": [
    {
      "cell_type": "markdown",
      "source": [
        "###RAFAEL AUGUSTO MORAES MONTEIRO - 3 TERMO CD FATEC/OURINHOS.###"
      ],
      "metadata": {
        "id": "QxJ9nlDJ1gl7"
      }
    },
    {
      "cell_type": "markdown",
      "source": [
        "## ESTRUTURA SEQUENCIAL ##"
      ],
      "metadata": {
        "id": "INxpkYmW1kYJ"
      }
    },
    {
      "cell_type": "code",
      "execution_count": null,
      "metadata": {
        "colab": {
          "base_uri": "https://localhost:8080/"
        },
        "id": "cB694yKdsg2W",
        "outputId": "ad481c38-6744-4f3f-960b-b693d94c4031"
      },
      "outputs": [
        {
          "output_type": "stream",
          "name": "stdout",
          "text": [
            "Digite um número inteiro: 5\n",
            "O antecessor do número 5 é o número 4\n",
            "O sucessor do número 5 é número 6\n"
          ]
        }
      ],
      "source": [
        "#1\n",
        "\n",
        "n = int(input('Digite um número INTEIRO: '))\n",
        "\n",
        "print (f'O ANTECESSOR do número {n} é o número {n-1}')\n",
        "print (f'O SUCESSOR do número {n} é número {n+1}')"
      ]
    },
    {
      "cell_type": "code",
      "source": [
        "#2\n",
        "\n",
        "pol = float(input('Digite o valor em POLEGADAS: '))\n",
        "\n",
        "cen = pol*2.54\n",
        "\n",
        "print (f'O valor de {pol} polegadas equivale a {cen}')"
      ],
      "metadata": {
        "colab": {
          "base_uri": "https://localhost:8080/"
        },
        "id": "3T4KYV7oznf0",
        "outputId": "91cec29f-63da-4424-e867-5bf6b81b7fe0"
      },
      "execution_count": null,
      "outputs": [
        {
          "output_type": "stream",
          "name": "stdout",
          "text": [
            "Digite o valor em POLEGADAS: 1\n",
            "O valor de 1.0 polegadas equivale a 2.54\n"
          ]
        }
      ]
    },
    {
      "cell_type": "code",
      "source": [
        "#3\n",
        "\n",
        "custofabrica = float(input('Digite o valor de CUSTO do carro em R$: '))\n",
        "\n",
        "valorfinal = (custofabrica + (custofabrica*0.28) + (custofabrica*0.45))\n",
        "\n",
        "print (f'O valor final do veículo, que tem custo de R$ {custofabrica} na fábrica, é de R$ {valorfinal}')"
      ],
      "metadata": {
        "colab": {
          "base_uri": "https://localhost:8080/"
        },
        "id": "IPVEeZn_0QcG",
        "outputId": "58569ce8-da0f-497b-f402-a5b3414e3de2"
      },
      "execution_count": null,
      "outputs": [
        {
          "output_type": "stream",
          "name": "stdout",
          "text": [
            "Digite o valor de CUSTO do carro em R$: 1000\n",
            "O valor final do veículo, que tem custo de R$ 1000.0 na fábrica, é de R$ 1730.0\n"
          ]
        }
      ]
    },
    {
      "cell_type": "markdown",
      "source": [
        "## ESTRUTURA DE SELEÇÃO ##"
      ],
      "metadata": {
        "id": "wtTmWnFN1ody"
      }
    },
    {
      "cell_type": "code",
      "source": [
        "#1\n",
        "\n",
        "n1 = int(input('Digite um valor INTEIRO: '))\n",
        "n2 = int(input('Digite outro valor INTEIRO: '))\n",
        "\n",
        "if n1 == n2:\n",
        "  print ('Os valores são iguais.')\n",
        "else:\n",
        "  print ('Os valores são diferentes.')"
      ],
      "metadata": {
        "colab": {
          "base_uri": "https://localhost:8080/"
        },
        "id": "01K_OzY71aP7",
        "outputId": "f4f40abb-a50a-4ccc-9609-19bd2594e6fb"
      },
      "execution_count": null,
      "outputs": [
        {
          "output_type": "stream",
          "name": "stdout",
          "text": [
            "Digite um valor INTEIRO: 1\n",
            "Digite outro valor INTEIRO: 2\n",
            "Os valores são diferentes.\n"
          ]
        }
      ]
    },
    {
      "cell_type": "code",
      "source": [
        "#2\n",
        "\n",
        "maca = int(input('Digite quantas maçãs deseja comprar: '))\n",
        "\n",
        "if maca <= 11:\n",
        "  print (f'Sua compra de {maca} maçãs fica no total de R$ {maca*1.3}')\n",
        "else:\n",
        "  print (f'Sua compra de {maca} maçãs fica no total de R$ {maca*1}')"
      ],
      "metadata": {
        "colab": {
          "base_uri": "https://localhost:8080/"
        },
        "id": "HjYWl2AE2LbL",
        "outputId": "c7503940-d6d0-463f-bb04-63748e344580"
      },
      "execution_count": null,
      "outputs": [
        {
          "output_type": "stream",
          "name": "stdout",
          "text": [
            "Digite quantas maçãs deseja comprar: 12\n",
            "Sua compra de 12 maçãs fica no total de R$ 12\n"
          ]
        }
      ]
    },
    {
      "cell_type": "code",
      "source": [
        "#3\n",
        "\n",
        "valortotal = float(input('Digite o valor total da compra em R$: '))\n",
        "\n",
        "while True:\n",
        "  print ('Qual tipo de cliente você é? Digite o index.')\n",
        "  print ('1 - CLIENTE COMUM.')\n",
        "  print ('2 - FUNCIONÁRIO.')\n",
        "  print ('3 - VIP.')\n",
        "\n",
        "  opcao = input('Digite o index: ')\n",
        "\n",
        "  if opcao == '1':\n",
        "    print (f'O valor da sua compra é de R$ {valortotal}.')\n",
        "    break\n",
        "  elif opcao == '2':\n",
        "    opcao2 = (valortotal*0.9)\n",
        "    print (f'O valor da sua compra de R$ {valortotal}, adcionado 10% de desconto por ser funcionário, resulta em R$ {opcao2}.')\n",
        "    break\n",
        "  elif opcao == '3':\n",
        "    opcao3 = (valortotal*0.95)\n",
        "    print (f'O valor da sua compra de R$ {valortotal}, adcionado 5% de desconto por ser cliente vip, resulta em R$ {opcao3}.')\n",
        "    break"
      ],
      "metadata": {
        "colab": {
          "base_uri": "https://localhost:8080/"
        },
        "id": "QF1gJMT83mDg",
        "outputId": "f14b725c-05b1-496a-93e7-c29071396d1b"
      },
      "execution_count": null,
      "outputs": [
        {
          "output_type": "stream",
          "name": "stdout",
          "text": [
            "Digite o valor total da compra em R$: 10\n",
            "Qual tipo de cliente você é? Digite o index.\n",
            "1 - CLIENTE COMUM.\n",
            "2 - FUNCIONÁRIO.\n",
            "3 - VIP.\n",
            "Digite o index: 3\n",
            "O valor da sua compra de R$ 10.0, adcionado 5% de desconto por ser cliente vip, resulta em R$ 9.5.\n"
          ]
        }
      ]
    },
    {
      "cell_type": "code",
      "source": [
        "#4\n",
        "\n",
        "p1 = float(input('Digite a nota da p1: '))\n",
        "p2 = float(input('Digite a nota da p2: '))\n",
        "\n",
        "media = (p1+p2)/2\n",
        "\n",
        "if media < 6:\n",
        "  print (f'Sua média foi de {media}, portanto está REPROVADO.')\n",
        "else:\n",
        "  print (f'Sua média foi de {media}, portanto está APROVADO.')"
      ],
      "metadata": {
        "colab": {
          "base_uri": "https://localhost:8080/"
        },
        "id": "TA2oc0YG6vMq",
        "outputId": "405654d0-2577-4258-9986-f42273cc2472"
      },
      "execution_count": null,
      "outputs": [
        {
          "output_type": "stream",
          "name": "stdout",
          "text": [
            "Digite a nota da p1: 6\n",
            "Digite a nota da p2: 6\n",
            "Sua média foi de 6.0, portanto está APROVADO.\n"
          ]
        }
      ]
    },
    {
      "cell_type": "code",
      "source": [
        "#5\n",
        "\n",
        "idade = int(input('Digite a idade do nadador: '))\n",
        "\n",
        "if idade >= 5 and idade <= 7:\n",
        "  print ('O nadador está enquadrado na categoria INFANTIL A.')\n",
        "elif idade >= 8 and idade <= 10:\n",
        "  print ('O nadador está enquadrado na categoria INFANTIL B.')\n",
        "elif idade >= 11 and idade <= 13:\n",
        "  print ('O nadador está enquadrado na categoria JUNIVEL A.')\n",
        "elif idade >= 14 and idade <= 17:\n",
        "  print ('O nadador está enquadrado na categoria JUNIVEL B.')\n",
        "elif idade >= 18:\n",
        "  print ('O nadador está enquadrado na categoria ADULTO.')\n",
        "else:\n",
        "  print ('Inválido.')"
      ],
      "metadata": {
        "id": "nazWJ39A7mhm",
        "colab": {
          "base_uri": "https://localhost:8080/"
        },
        "outputId": "8fd4c197-3431-4596-b800-ec1cf0bf9400"
      },
      "execution_count": null,
      "outputs": [
        {
          "output_type": "stream",
          "name": "stdout",
          "text": [
            "Digite a idade do nadador: 5\n",
            "O nadador está enquadrado na categoria INFANTIL A.\n"
          ]
        }
      ]
    },
    {
      "cell_type": "code",
      "source": [
        "#6\n",
        "\n",
        "alcool = 2.90\n",
        "gasolina = 3.30\n",
        "\n",
        "qtdlitro = float(input('Digite o valor em LITROS vendidos: '))\n",
        "\n",
        "while True:\n",
        "  print ('Tipo de combustível:')\n",
        "  print ('1 - ÁLCOOL.')\n",
        "  print ('2 - GASOLINA.')\n",
        "\n",
        "  opcao = input('Digite o index: ')\n",
        "\n",
        "  if opcao == '1':\n",
        "    if qtdlitro <= 20:\n",
        "      print (f'O valor a ser pago, com 3% de desconto por litro, será de R$ {qtdlitro*(alcool*0.97):.2f}')\n",
        "      break\n",
        "    elif qtdlitro > 20:\n",
        "      print (f'O valor a ser pago, com 5% de desconto por litro, será de R$ {qtdlitro*(alcool*0.95):.2f}')\n",
        "      break\n",
        "  elif opcao =='2':\n",
        "    if qtdlitro <= 20:\n",
        "      print (f'O valor a ser pago, com 4% de desconto por litro, será de R$ {qtdlitro*(gasolina*0.96):.2f}')\n",
        "      break\n",
        "    elif qtdlitro > 20:\n",
        "      print (f'O valor a ser pago, com 6% de desconto por litro, será de R$ {qtdlitro*(gasolina*0.94):.2f}')\n",
        "      break"
      ],
      "metadata": {
        "id": "gBbPCqMzSyLC",
        "colab": {
          "base_uri": "https://localhost:8080/"
        },
        "outputId": "0b9fb565-4ca0-4a0c-95ce-f8d107a1431a"
      },
      "execution_count": null,
      "outputs": [
        {
          "output_type": "stream",
          "name": "stdout",
          "text": [
            "Digite o valor em LITROS vendidos: 20\n",
            "Tipo de combustível:\n",
            "1 - ÁLCOOL.\n",
            "2 - GASOLINA.\n",
            "Digite o index: 2\n",
            "O valor a ser pago, com 4% de desconto por litro, será de R$ 63.36\n"
          ]
        }
      ]
    },
    {
      "cell_type": "markdown",
      "source": [
        "##ESTRUTURA DE REPETIÇÃO##"
      ],
      "metadata": {
        "id": "ws0dOO3hXcFg"
      }
    },
    {
      "cell_type": "code",
      "source": [
        "#1\n",
        "\n",
        "for i in range (1, 51):\n",
        "  print (i)"
      ],
      "metadata": {
        "colab": {
          "base_uri": "https://localhost:8080/"
        },
        "id": "6zF8oZdNXYAd",
        "outputId": "41916ff7-a0c8-45a1-b253-e0d17940720f"
      },
      "execution_count": null,
      "outputs": [
        {
          "output_type": "stream",
          "name": "stdout",
          "text": [
            "1\n",
            "2\n",
            "3\n",
            "4\n",
            "5\n",
            "6\n",
            "7\n",
            "8\n",
            "9\n",
            "10\n",
            "11\n",
            "12\n",
            "13\n",
            "14\n",
            "15\n",
            "16\n",
            "17\n",
            "18\n",
            "19\n",
            "20\n",
            "21\n",
            "22\n",
            "23\n",
            "24\n",
            "25\n",
            "26\n",
            "27\n",
            "28\n",
            "29\n",
            "30\n",
            "31\n",
            "32\n",
            "33\n",
            "34\n",
            "35\n",
            "36\n",
            "37\n",
            "38\n",
            "39\n",
            "40\n",
            "41\n",
            "42\n",
            "43\n",
            "44\n",
            "45\n",
            "46\n",
            "47\n",
            "48\n",
            "49\n",
            "50\n"
          ]
        }
      ]
    },
    {
      "cell_type": "code",
      "source": [
        "#2\n",
        "\n",
        "for i in range (1, 39):\n",
        "  if i % 2 == 0:\n",
        "    print (i)"
      ],
      "metadata": {
        "colab": {
          "base_uri": "https://localhost:8080/"
        },
        "id": "poF413aLXw_t",
        "outputId": "854db6d4-6fe5-4774-c533-78166150386a"
      },
      "execution_count": null,
      "outputs": [
        {
          "output_type": "stream",
          "name": "stdout",
          "text": [
            "2\n",
            "4\n",
            "6\n",
            "8\n",
            "10\n",
            "12\n",
            "14\n",
            "16\n",
            "18\n",
            "20\n",
            "22\n",
            "24\n",
            "26\n",
            "28\n",
            "30\n",
            "32\n",
            "34\n",
            "36\n",
            "38\n"
          ]
        }
      ]
    },
    {
      "cell_type": "code",
      "source": [
        "#3\n",
        "\n",
        "n1 = int(input('Digite o primeiro valor: '))\n",
        "n2 = int(input('Digite o segundo valor: '))\n",
        "\n",
        "soma = 0\n",
        "\n",
        "for i in range (n1, n2+1):\n",
        "  soma += i\n",
        "print (f'A soma dos valores {n1} e {n2} é igual a {soma}.')"
      ],
      "metadata": {
        "colab": {
          "base_uri": "https://localhost:8080/"
        },
        "id": "_GgsdvKDYGQP",
        "outputId": "ad9e2748-8770-4fde-e48a-6decb2dd2122"
      },
      "execution_count": null,
      "outputs": [
        {
          "output_type": "stream",
          "name": "stdout",
          "text": [
            "Digite o primeiro valor: 1\n",
            "Digite o segundo valor: 2\n",
            "A soma dos valores 1 e 2 é igual a 3.\n"
          ]
        }
      ]
    },
    {
      "cell_type": "code",
      "source": [
        "#4\n",
        "lista = []\n",
        "\n",
        "item = input(f'Digite o nome do item {1}: ')\n",
        "preco = float(input(f'Digite o preço do item {1}: '))\n",
        "lista.append(preco)\n",
        "\n",
        "maior_preco = preco\n",
        "soma_precos = preco\n",
        "\n",
        "for i in range(1, 15):\n",
        "    item = input(f'Digite o nome do item {i+1}: ')\n",
        "    preco = float(input(f'Digite o preço do item {i+1}: '))\n",
        "    lista.append(preco)\n",
        "\n",
        "    if preco > maior_preco:\n",
        "        maior_preco = preco\n",
        "\n",
        "    soma_precos += preco\n",
        "\n",
        "media_precos = soma_precos / 15\n",
        "\n",
        "print(f'O maior preço lido foi de R$ {maior_preco}.')\n",
        "print(f'A média aritmética dos preços dos produtos é de R$ {media_precos:.2f}.')"
      ],
      "metadata": {
        "colab": {
          "base_uri": "https://localhost:8080/"
        },
        "id": "xcfKBNWDP4cB",
        "outputId": "d7be3c7b-8932-49c0-e27a-0886790bb212"
      },
      "execution_count": null,
      "outputs": [
        {
          "output_type": "stream",
          "name": "stdout",
          "text": [
            "Digite o nome do item 1: Coco\n",
            "Digite o preço do item 1: 10\n",
            "Digite o nome do item 2: Banana\n",
            "Digite o preço do item 2: 15\n",
            "Digite o nome do item 3: Salsicha\n",
            "Digite o preço do item 3: 30\n",
            "Digite o nome do item 4: Uva\n",
            "Digite o preço do item 4: 5\n",
            "Digite o nome do item 5: Tomate\n",
            "Digite o preço do item 5: 100\n",
            "Digite o nome do item 6: Guarná\n",
            "Digite o preço do item 6: 4\n",
            "Digite o nome do item 7: Carne bovina\n",
            "Digite o preço do item 7: 200\n",
            "Digite o nome do item 8: Suco\n",
            "Digite o preço do item 8: 50\n",
            "Digite o nome do item 9: Chocolate\n",
            "Digite o preço do item 9: 90\n",
            "Digite o nome do item 10: Desinfetante\n",
            "Digite o preço do item 10: 50\n",
            "Digite o nome do item 11: Soja\n",
            "Digite o preço do item 11: 20\n",
            "Digite o nome do item 12: Marmita\n",
            "Digite o preço do item 12: 55\n",
            "Digite o nome do item 13: Toddynho\n",
            "Digite o preço do item 13: 90\n",
            "Digite o nome do item 14: Graviola\n",
            "Digite o preço do item 14: 33\n",
            "Digite o nome do item 15: Makita\n",
            "Digite o preço do item 15: 33\n",
            "O maior preço lido foi de R$ 200.0.\n",
            "A média aritmética dos preços dos produtos é de R$ 52.33.\n"
          ]
        }
      ]
    },
    {
      "cell_type": "code",
      "source": [
        "#5\n",
        "\n",
        "chico_alt = 1.5\n",
        "juca_alt = 1.1\n",
        "anos = 0\n",
        "\n",
        "while chico_alt > juca_alt:\n",
        "  chico_alt += 0.02\n",
        "  juca_alt += 0.03\n",
        "  anos += 1\n",
        "\n",
        "print(f'Serão necessários {anos} anos para que Juca seja maior que Chico.')"
      ],
      "metadata": {
        "colab": {
          "base_uri": "https://localhost:8080/"
        },
        "id": "HpZgJzxsUCG9",
        "outputId": "82893384-2c8f-4aa5-aa91-b57dd37e3d55"
      },
      "execution_count": null,
      "outputs": [
        {
          "output_type": "stream",
          "name": "stdout",
          "text": [
            "Serão necessários 41 anos para que Juca seja maior que Chico.\n"
          ]
        }
      ]
    },
    {
      "cell_type": "code",
      "source": [
        "#6\n",
        "\n",
        "n = int(input('Digite um valor INTEIRO e POSITIVO: '))\n",
        "fat = 1\n",
        "\n",
        "if n == 0:\n",
        "  print(f'O fatorial de {n} é 1.')\n",
        "else:\n",
        "  for i in range(1, n + 1):\n",
        "    fat *= i\n",
        "  print(f'O fatorial de {n} é {fat}.')"
      ],
      "metadata": {
        "colab": {
          "base_uri": "https://localhost:8080/"
        },
        "id": "YwapaPyZUVze",
        "outputId": "0379e508-97e3-4ded-8411-fee5c75070a0"
      },
      "execution_count": null,
      "outputs": [
        {
          "output_type": "stream",
          "name": "stdout",
          "text": [
            "Digite um valor INTEIRO e POSITIVO: 5\n",
            "O fatorial de 5 é 120.\n"
          ]
        }
      ]
    },
    {
      "cell_type": "markdown",
      "source": [
        "##VETORES##"
      ],
      "metadata": {
        "id": "oLkQqcxOWYiL"
      }
    },
    {
      "cell_type": "code",
      "source": [
        "#1\n",
        "\n",
        "vetores = []\n",
        "\n",
        "for i in range(10):\n",
        "  valor = int(input('Digite o valor do vetor: '))\n",
        "  vetores.append(valor)\n",
        "\n",
        "for i in vetores:\n",
        "  if i % 2 != 0:\n",
        "    print(i)"
      ],
      "metadata": {
        "colab": {
          "base_uri": "https://localhost:8080/"
        },
        "id": "QCsJcN42VkzN",
        "outputId": "1d81fed3-39a4-4e07-8fb2-8b0b94bc0c93"
      },
      "execution_count": null,
      "outputs": [
        {
          "output_type": "stream",
          "name": "stdout",
          "text": [
            "Digite o valor do vetor: 1\n",
            "Digite o valor do vetor: 2\n",
            "Digite o valor do vetor: 3\n",
            "Digite o valor do vetor: 4\n",
            "Digite o valor do vetor: 5\n",
            "Digite o valor do vetor: 6\n",
            "Digite o valor do vetor: 7\n",
            "Digite o valor do vetor: 8\n",
            "Digite o valor do vetor: 9\n",
            "Digite o valor do vetor: 10\n",
            "1\n",
            "3\n",
            "5\n",
            "7\n",
            "9\n"
          ]
        }
      ]
    },
    {
      "cell_type": "code",
      "source": [
        "#2\n",
        "\n",
        "vetores = []\n",
        "\n",
        "for i in range(6):\n",
        "  valor = float(input('Digite o valor do vetor: '))\n",
        "  vetores.append(valor)\n",
        "\n",
        "media = sum(vetores) / len(vetores)\n",
        "maior_valor = max(vetores)\n",
        "menor_valor = min(vetores)\n",
        "\n",
        "print(f'A média dos vetores é de {media}.')\n",
        "print(f'O maior vetor é {maior_valor}.')\n",
        "print(f'O menor vetor é {menor_valor}.')"
      ],
      "metadata": {
        "colab": {
          "base_uri": "https://localhost:8080/"
        },
        "id": "sgadFILhWrWT",
        "outputId": "25ca2d01-27fb-4bce-de2b-55e0dd2c7a50"
      },
      "execution_count": null,
      "outputs": [
        {
          "output_type": "stream",
          "name": "stdout",
          "text": [
            "Digite o valor do vetor: 1\n",
            "Digite o valor do vetor: 2\n",
            "Digite o valor do vetor: 3\n",
            "Digite o valor do vetor: 4\n",
            "Digite o valor do vetor: 5\n",
            "Digite o valor do vetor: 6\n",
            "A média dos vetores é de 3.5.\n",
            "O maior vetor é 6.0.\n",
            "O menor vetor é 1.0.\n"
          ]
        }
      ]
    },
    {
      "cell_type": "code",
      "source": [
        "#3\n",
        "\n",
        "vetor = []\n",
        "for i in range(10):\n",
        "  valor = int(input(f'Digite o valor INTEIRO da posição {i} do vetor principal: '))\n",
        "  vetor.append(valor)\n",
        "\n",
        "vetor_trasfrente = []\n",
        "for i in range(len(vetor)-1, -1, -1):\n",
        "  vetor_trasfrente.append(vetor[i])\n",
        "\n",
        "print(f'Vetor principal: {vetor}')\n",
        "print(f'Vetor de trás para frente: {vetor_trasfrente}')"
      ],
      "metadata": {
        "colab": {
          "base_uri": "https://localhost:8080/"
        },
        "id": "3BF-I8i5bGx7",
        "outputId": "d9ecbcce-a719-4c4a-eebb-c5a32fea7831"
      },
      "execution_count": null,
      "outputs": [
        {
          "output_type": "stream",
          "name": "stdout",
          "text": [
            "Digite o valor da posição 0 do vetor principal: 1\n",
            "Digite o valor da posição 1 do vetor principal: 2\n",
            "Digite o valor da posição 2 do vetor principal: 3\n",
            "Digite o valor da posição 3 do vetor principal: 4\n",
            "Digite o valor da posição 4 do vetor principal: 5\n",
            "Digite o valor da posição 5 do vetor principal: 6\n",
            "Digite o valor da posição 6 do vetor principal: 4\n",
            "Digite o valor da posição 7 do vetor principal: 2\n",
            "Digite o valor da posição 8 do vetor principal: 3\n",
            "Digite o valor da posição 9 do vetor principal: 1\n",
            "Vetor principal: [1, 2, 3, 4, 5, 6, 4, 2, 3, 1]\n",
            "Vetor de trás para frente: [1, 3, 2, 4, 6, 5, 4, 3, 2, 1]\n"
          ]
        }
      ]
    },
    {
      "cell_type": "code",
      "source": [
        "#4\n",
        "\n",
        "vetor = []\n",
        "soma = 0\n",
        "\n",
        "for i in range(10):\n",
        "    valor = int(input(f'Digite o valor da posição {i} do vetor: '))\n",
        "    vetor.append(valor)\n",
        "\n",
        "for i in range(0, 10, 2):\n",
        "    if vetor[i] > 0:\n",
        "        soma += vetor[i]\n",
        "\n",
        "print(f'A soma dos elementos positivos que se encontram nas posições pares do vetor é de: {soma}')"
      ],
      "metadata": {
        "colab": {
          "base_uri": "https://localhost:8080/"
        },
        "id": "xHN6nOZKcA9y",
        "outputId": "75de2c8e-f2ed-4175-adad-be6054f83775"
      },
      "execution_count": null,
      "outputs": [
        {
          "output_type": "stream",
          "name": "stdout",
          "text": [
            "Digite o valor da posição 0 do vetor: 1\n",
            "Digite o valor da posição 1 do vetor: 2\n",
            "Digite o valor da posição 2 do vetor: 3\n",
            "Digite o valor da posição 3 do vetor: 4\n",
            "Digite o valor da posição 4 do vetor: 5\n",
            "Digite o valor da posição 5 do vetor: 6\n",
            "Digite o valor da posição 6 do vetor: 7\n",
            "Digite o valor da posição 7 do vetor: 8\n",
            "Digite o valor da posição 8 do vetor: 9\n",
            "Digite o valor da posição 9 do vetor: 10\n",
            "A soma dos elementos positivos que se encontram nas posições pares do vetor é de: 25\n"
          ]
        }
      ]
    }
  ]
}